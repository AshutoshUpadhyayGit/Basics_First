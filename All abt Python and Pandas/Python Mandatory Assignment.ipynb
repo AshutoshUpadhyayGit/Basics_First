{
 "cells": [
  {
   "cell_type": "markdown",
   "metadata": {},
   "source": [
    "Matrix Multiplication of 2 Matrix"
   ]
  },
  {
   "cell_type": "code",
   "execution_count": 14,
   "metadata": {},
   "outputs": [
    {
     "name": "stdout",
     "output_type": "stream",
     "text": [
      "[[1 2 3]\n",
      " [4 5 6]]\n",
      "<class 'numpy.ndarray'>\n",
      "3\n"
     ]
    }
   ],
   "source": [
    "import numpy as np\n",
    "a = np.array([[1,2,3],[4,5,6]])\n",
    "print(a)\n",
    "print(type(a))\n",
    "print(a.shape[1])"
   ]
  },
  {
   "cell_type": "code",
   "execution_count": 3,
   "metadata": {},
   "outputs": [
    {
     "name": "stdout",
     "output_type": "stream",
     "text": [
      " Input for Matrix A: \n",
      "Enter the number of rows:1\n",
      "Enter the number of columns:1\n",
      "Row  0\n",
      "2\n",
      " Input for Matrix B: \n",
      "Enter the number of rows:1\n",
      "Enter the number of columns:1\n",
      "Row  0\n",
      "3\n",
      "Row  0\n",
      "A * B =  [[6]]\n"
     ]
    }
   ],
   "source": [
    "def create_matrix(row,col,result=0):\n",
    "    # For user input\n",
    "    mat = []\n",
    "    for i in range(row):          # loop for row entries\n",
    "        print(\"Row \",i)\n",
    "        a =[]\n",
    "        for j in range(col):      # loop for column entries\n",
    "                if result == 0:\n",
    "                    a.append(int(input()))\n",
    "                elif result == 1:\n",
    "                    a.append(int(0))\n",
    "                    \n",
    "        mat.append(a)\n",
    "    \n",
    "    return mat\n",
    "    \n",
    "\n",
    "def check_multiplication_feasible(mat1, mat2):\n",
    "    '''\n",
    "    If Mulplication of 2 given matrix is possible or not\n",
    "    Returns 1 if multiplication is possible else Exception is raised\n",
    "    '''\n",
    "    try:        \n",
    "        # Check if # of col of mat1 == # of rows of mat2; if not, raise error\n",
    "        if len(mat1[0]) != len(mat2):\n",
    "            raise ValueError(\"A * B = Multiplication is not possible for provided matrices, check dimensions\")\n",
    "    except ValueError as e:\n",
    "        print(e)\n",
    "    else:\n",
    "        return 1\n",
    "\n",
    "print(\" Input for Matrix A: \")\n",
    "row = int(input(\"Enter the number of rows:\"))\n",
    "col = int(input(\"Enter the number of columns:\"))\n",
    "mat1 = create_matrix(row,col)\n",
    "\n",
    "print(\" Input for Matrix B: \")\n",
    "row = int(input(\"Enter the number of rows:\"))\n",
    "col = int(input(\"Enter the number of columns:\"))\n",
    "mat2 = create_matrix(row,col)\n",
    "\n",
    "\n",
    "x = check_multiplication_feasible(mat1, mat2)\n",
    "\n",
    "if x == 1:\n",
    "    \n",
    "    # Creation of result dummy matrix for storage of result\n",
    "    product_matx = create_matrix(row,col,1)\n",
    "        \n",
    "    # Multiplication\n",
    "    \n",
    "    for i in range(len(mat1)):\n",
    "        for j in range(len(mat2[0])):\n",
    "            for k in range(len(mat2)):\n",
    "                product_matx[i][j] += (mat1[i][k] * mat2[k][j])\n",
    "            \n",
    "            \n",
    "print(\"A * B = \", product_matx)\n",
    "    \n",
    "\n",
    "\n",
    "    \n",
    "    \n",
    "        "
   ]
  },
  {
   "cell_type": "markdown",
   "metadata": {},
   "source": [
    "## Q3: Replace the digits in the string with '##'"
   ]
  },
  {
   "cell_type": "code",
   "execution_count": 10,
   "metadata": {},
   "outputs": [
    {
     "name": "stdout",
     "output_type": "stream",
     "text": [
      "#####\n"
     ]
    }
   ],
   "source": [
    "import re\n",
    "# write your python code here\n",
    "# you can take the above example as sample input for your program to test\n",
    "# it should work for any general input try not to hard code for only given input examples\n",
    "# try to complete this question using regular expressions\n",
    "# you can free to change all these codes/structure\n",
    "# String: it will be the input to your program\n",
    "def replace_digits(String):\n",
    "    only_digit_string = re.sub('[^0-9]','',String)\n",
    "    desired_format = re.sub('[0-9]','#',only_digit_string)\n",
    "    print(desired_format)\n",
    "\n",
    "replace_digits(' 2a$#b%c%561 hj2')"
   ]
  },
  {
   "cell_type": "markdown",
   "metadata": {},
   "source": [
    "## Q4: Students marks dashboard ##"
   ]
  },
  {
   "cell_type": "code",
   "execution_count": 35,
   "metadata": {},
   "outputs": [
    {
     "name": "stdout",
     "output_type": "stream",
     "text": [
      "[('student8', 98), ('student10', 80), ('student2', 78), ('student5', 48), ('student7', 45)]\n",
      "[('student3', 12), ('student4', 14), ('student9', 22), ('student6', 43), ('student1', 45)]\n",
      "[('student9', 22), ('student6', 43), ('student1', 45), ('student7', 45), ('student5', 48)]\n"
     ]
    }
   ],
   "source": [
    "def display_dash_board(students, marks):    \n",
    "    # Creating dictionary with Students as keys and Marks as values\n",
    "    dict_students_marks=dict(zip(Students,Marks))\n",
    "    \n",
    "    # Sorting the dictionary based on marks of students\n",
    "    sorted_dict_students_marks = sorted(dict_students.items(),key=lambda x: x[1])\n",
    "    \n",
    "    # write code for computing top least 5 students\n",
    "    least_5_students = sorted_dict_students_marks[0:5]\n",
    "    # write code for computing top top 5 students\n",
    "    top_5_students = sorted_dict_students_marks[-1:-6:-1]\n",
    "    # write code for computing students btw 25th and 75th Percentile\n",
    "    \n",
    "    # Calculate 25th and 75th Percentile positions\n",
    "    position_25 = 25*len(sorted_dict_students_marks)//100\n",
    "    position_75 = 75*len(sorted_dict_students_marks)//100\n",
    "    students_within_25_and_75 = sorted_dict_students_marks[position_25:position_75]\n",
    "    \n",
    "    return top_5_students, least_5_students, students_within_25_and_75\n",
    "\n",
    "Students = ['student1','student2','student3','student4','student5','student6','student7','student8','student9','student10']\n",
    "Marks = [45, 78, 12, 14, 48, 43, 47, 98, 22, 80]\n",
    "top_5_students, least_5_students, students_within_25_and_75 = display_dash_board(Students, Marks)\n",
    "print(top_5_students)\n",
    "print(least_5_students)\n",
    "print(students_within_25_and_75)\n",
    "    "
   ]
  },
  {
   "cell_type": "code",
   "execution_count": null,
   "metadata": {},
   "outputs": [],
   "source": []
  }
 ],
 "metadata": {
  "kernelspec": {
   "display_name": "Python 3",
   "language": "python",
   "name": "python3"
  },
  "language_info": {
   "codemirror_mode": {
    "name": "ipython",
    "version": 3
   },
   "file_extension": ".py",
   "mimetype": "text/x-python",
   "name": "python",
   "nbconvert_exporter": "python",
   "pygments_lexer": "ipython3",
   "version": "3.8.3"
  }
 },
 "nbformat": 4,
 "nbformat_minor": 4
}
